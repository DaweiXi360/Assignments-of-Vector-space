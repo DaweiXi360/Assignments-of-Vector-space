{
 "cells": [
  {
   "cell_type": "markdown",
   "metadata": {
    "colab_type": "text",
    "id": "usCttVkykran"
   },
   "source": [
    "Try to implement the functions in fsmc_code.py and complete lines with \"###\""
   ]
  },
  {
   "cell_type": "code",
   "execution_count": 1,
   "metadata": {
    "ExecuteTime": {
     "end_time": "2018-10-22T15:49:53.124544Z",
     "start_time": "2018-10-22T15:49:53.119759Z"
    },
    "colab": {},
    "colab_type": "code",
    "id": "nRhUCVs5krap"
   },
   "outputs": [],
   "source": [
    "import numpy as np\n",
    "import matplotlib.pyplot as plt\n",
    "import matplotlib as mpl\n",
    "from scipy.linalg import null_space\n",
    "\n",
    "# Old code for making LaTeX work\n",
    "#mpl.rcParams['text.usetex'] = True\n",
    "#mpl.rcParams['text.latex.preamble'] = [r'\\usepackage{amsfonts}']\n",
    "\n",
    "%matplotlib inline"
   ]
  },
  {
   "cell_type": "code",
   "execution_count": 9,
   "metadata": {
    "colab": {},
    "colab_type": "code",
    "id": "2bvJ4E1EDA7z"
   },
   "outputs": [],
   "source": [
    "def compute_Phi_ET(P,ns=100):\n",
    "    Mt = np.eye(P.shape[0],P.shape[1],dtype=float)\n",
    "    Phi_list = []\n",
    "    Phi_list.append(Mt)\n",
    "    ET = np.zeros((P.shape[0],P.shape[1]),dtype=float)\n",
    "    \n",
    "    for i in range(ns):\n",
    "        Mt = np.dot(P,Mt)\n",
    "        for j in range(P.shape[0]):\n",
    "            Mt[j][j] = 1.0\n",
    "        Phi_list.append(Mt)\n",
    "        ET += (Mt-Phi_list[i])*(i+1)\n",
    "    \n",
    "    Phi_list = np.array(Phi_list)\n",
    "    \n",
    "    return Phi_list, ET\n",
    "\n",
    "\n",
    "def simulate_hitting_time(P, states, nr):\n",
    "    Time = []\n",
    "    choice = []\n",
    "    for i in range(P.shape[1]):\n",
    "        choice.append(i)\n",
    "    \n",
    "    for i in range(nr):\n",
    "        init = np.eye(1,P.shape[1],k = 0,dtype=float)\n",
    "        flag = 0\n",
    "        count = 0\n",
    "        for j in range(nr):\n",
    "            state_dis = np.dot(init,P)\n",
    "            state_now = np.random.choice(choice,1,replace=True,p=state_dis[0])\n",
    "            count += 1\n",
    "            \n",
    "            if state_now[0] == states[1]:\n",
    "                Time.append(count)\n",
    "                flag = 1\n",
    "                break\n",
    "            init = np.eye(1,P.shape[1],k=state_now[0],dtype=float)\n",
    "            \n",
    "        if flag==0:\n",
    "            Time.append(0)\n",
    "        \n",
    "    return Time\n",
    "\n",
    "\n",
    "def stationary_distribution(P):\n",
    "    I = np.eye(P.shape[0],P.shape[1],dtype=float)\n",
    "    Ones = np.ones((1,P.shape[1]),dtype=float)\n",
    "    Temp = np.append(np.transpose(P)-I,Ones,axis=0)\n",
    "    \n",
    "    b = np.zeros(P.shape[1])\n",
    "    b = np.append(b,[1],axis=0)\n",
    "    b = np.transpose(b)\n",
    "    \n",
    "    result = np.linalg.solve(np.dot(np.transpose(Temp),Temp),np.dot(np.transpose(Temp),b))\n",
    "\n",
    "    return result"
   ]
  },
  {
   "cell_type": "markdown",
   "metadata": {
    "colab_type": "text",
    "id": "GJY7t9Elkras"
   },
   "source": [
    "### Exercise 1\n",
    "\n",
    "What is the distribution of the number of fair coin tosses before one observes 3 heads in a row? To solve this, consider a 4-state Markov chain with transition probability matrix\n",
    "$$\n",
    "    P = \n",
    "    \\begin{bmatrix}\n",
    "        0.5 & 0.5 & 0 & 0 \\\\\n",
    "        0.5 & 0 & 0.5 & 0 \\\\\n",
    "        0.5 & 0 & 0 & 0.5 \\\\\n",
    "        0 & 0 & 0 & 1\n",
    "    \\end{bmatrix}\n",
    "$$\n",
    "where $ X_t = 1 $ if the previous toss was tails, $ X_t = 2 $ if the last two tosses were tails then heads, $ X_t = 3 $ if the last three tosses were tails then heads twice, and $ X_t = 4 $ is an absorbing state that is reached when the last three tosses are heads. "
   ]
  },
  {
   "cell_type": "markdown",
   "metadata": {
    "colab_type": "text",
    "id": "WaGXZhEwkrat"
   },
   "source": [
    "* ** (15 pts) ** Write a computer program (e.g., in Python, Matlab, ...) to compute $ \\Pr(T_{1,4} = m) $ for $ m = 1, 2, \\ldots, 100 $ and ** (10 pts) ** use this to compute and print an estimate of the expected number of tosses $ \\mathbb{E}[T_{1,4}] $ "
   ]
  },
  {
   "cell_type": "code",
   "execution_count": 3,
   "metadata": {
    "ExecuteTime": {
     "end_time": "2018-10-22T16:00:09.170580Z",
     "start_time": "2018-10-22T16:00:08.876025Z"
    },
    "colab": {},
    "colab_type": "code",
    "id": "nhLLPgCEkrau",
    "scrolled": false
   },
   "outputs": [
    {
     "data": {
      "text/plain": [
       "Text(0.5, 1.0, 'E[T_{1,4}] = 13.970568255020394')"
      ]
     },
     "execution_count": 3,
     "metadata": {},
     "output_type": "execute_result"
    },
    {
     "data": {
      "image/png": "[encoded data removed]",
      "text/plain": [
       "<Figure size 720x432 with 1 Axes>"
      ]
     },
     "metadata": {},
     "output_type": "display_data"
    }
   ],
   "source": [
    "# See compute_Phi_ET in fsmc_code.py\n",
    "\n",
    "P = np.array([[0.5, 0.5, 0, 0], [0.5, 0, 0.5, 0], [0.5, 0, 0, 0.5], [0, 0, 0, 1]])  \n",
    "Phi_list, ET = compute_Phi_ET(P, 100)\n",
    "\n",
    "m = []### steps to be plotted\n",
    "for i in range(1,101):\n",
    "    m.append(i)\n",
    "    \n",
    "Pr = []### \\Pr(T_{1,4} = m) for all m\n",
    "for i in range(100):\n",
    "    Pr.append(Phi_list[i+1][0][3]-Phi_list[i][0][3])\n",
    "\n",
    "E = ET[0][3]### \\mathbb{E}[T_{1,4}]\n",
    "\n",
    "plt.figure(figsize=(10, 6))\n",
    "plt.stem(m, Pr)\n",
    "plt.xlabel(r'm')\n",
    "plt.ylabel(r'Pr(T_{1,4}=m)')\n",
    "plt.title(r'E[T_{1,4}] = ' + str(E))"
   ]
  },
  {
   "cell_type": "markdown",
   "metadata": {
    "colab_type": "text",
    "id": "CKdEpYL_kraw"
   },
   "source": [
    "* ** (15 pts) ** Write a computer program that generates 500 realizations from this Markov chain and ** (10 pts) ** uses them to plot a histogram of $ T_{1,4} $ and compute/print an estimate of the expected number of tosses $ \\mathbb{E}[T_{1,4}] $."
   ]
  },
  {
   "cell_type": "code",
   "execution_count": 4,
   "metadata": {
    "ExecuteTime": {
     "end_time": "2018-10-21T20:14:09.256385Z",
     "start_time": "2018-10-21T20:14:08.210502Z"
    },
    "colab": {},
    "colab_type": "code",
    "id": "-Wm6FuHlkrax"
   },
   "outputs": [
    {
     "data": {
      "text/plain": [
       "Text(0.5, 1.0, 'mean of T_{1,4} = 14.374')"
      ]
     },
     "execution_count": 4,
     "metadata": {},
     "output_type": "execute_result"
    },
    {
     "data": {
      "image/png": "[encoded data removed]",
      "text/plain": [
       "<Figure size 720x432 with 1 Axes>"
      ]
     },
     "metadata": {},
     "output_type": "display_data"
    }
   ],
   "source": [
    "# implement simulate_hitting_time(P, states, nr) in fsmc_code.py\n",
    "        \n",
    "T = simulate_hitting_time(P, [0, 3], 500)\n",
    "plt.figure(figsize=(10, 6))\n",
    "plt.hist(T, bins=np.arange(max(T))-0.5)\n",
    "plt.title(r'mean of T_{1,4} = ' + str(np.mean(T)))"
   ]
  },
  {
   "cell_type": "markdown",
   "metadata": {
    "colab_type": "text",
    "id": "zvG61B86kraz"
   },
   "source": [
    "### Exercise 2\n",
    "\n",
    "Consider the miniature chutes and ladders game shown in Figure 1. \n",
    "Assume a player starts on the space labeled 1 and plays by rolling a fair four-sided die and then moves that number of spaces. \n",
    "If a player lands on the bottom of a ladder, then they automatically climb to the top. \n",
    "If a player lands at the top of a slide, then they automatically slide to the bottom. \n",
    "This process can be modeled by a Markov chain with $ n = 16 $ states where each state is associated with a square where players can start their turn (e.g., players never start at the bottom of a ladder or the top of a slide). \n",
    "To finish the game, players must land exactly on space 20 (moves beyond this are not taken). "
   ]
  },
  {
   "cell_type": "markdown",
   "metadata": {},
   "source": [
    "* ** (10 pts) ** Compute the transition probability matrix $ P $ of the implied Markov chain. "
   ]
  },
  {
   "cell_type": "code",
   "execution_count": 5,
   "metadata": {
    "ExecuteTime": {
     "end_time": "2018-10-21T20:14:09.489797Z",
     "start_time": "2018-10-21T20:14:09.258446Z"
    },
    "colab": {},
    "colab_type": "code",
    "id": "WKlxCtockra1"
   },
   "outputs": [
    {
     "data": {
      "text/plain": [
       "<matplotlib.image.AxesImage at 0x2637f1a1dd8>"
      ]
     },
     "execution_count": 5,
     "metadata": {},
     "output_type": "execute_result"
    },
    {
     "data": {
      "image/png": "[encoded data removed]",
      "text/plain": [
       "<Figure size 576x576 with 1 Axes>"
      ]
     },
     "metadata": {},
     "output_type": "display_data"
    }
   ],
   "source": [
    "# You can either do this by hand (e.g., look at picture and write down matrix) or by automating the process.\n",
    "\n",
    "# By hand\n",
    "P = np.asarray([[...],[...],[...],...])\n",
    "\n",
    "###\n",
    "\n",
    "# Or automated general function for Chutes and Ladders games\n",
    "def construct_P_matrix(n, dice, chutes, ladders):\n",
    "    '''\n",
    "    Arguments:\n",
    "        n {int} -- size of the state space\n",
    "        dice {numpy.array} -- probability distribution of the dice outcome\n",
    "        chutes {list[(int, int)]} -- the list of chutes, in pairs of (start, end)\n",
    "        ladders {list[(int, int)]} -- the list of ladders, in pairs of (start, end)\n",
    "\n",
    "    Returns:\n",
    "        P {numpy.array} -- n x n, transition matrix of the Markov chain\n",
    "    '''\n",
    "    P = np.zeros((n,n),dtype=float)\n",
    "    \n",
    "    for i in range(n):\n",
    "        if i+1>=n:\n",
    "            P[i][i]=1.0\n",
    "            continue\n",
    "        \n",
    "        flag_chu = 0\n",
    "        for k in range(len(chutes)):\n",
    "            if i==chutes[k][0]:\n",
    "                P[i][chutes[k][1]] = 1.0\n",
    "                flag_chu = 1\n",
    "                break;\n",
    "        if flag_chu == 1:\n",
    "            continue\n",
    "        \n",
    "        flag_lad = 0\n",
    "        for k in range(len(ladders)):\n",
    "            if i==ladders[k][0]:\n",
    "                P[i][ladders[k][1]] = 1.0\n",
    "                flag_lad = 1\n",
    "                break;\n",
    "        if flag_lad==1:\n",
    "            continue\n",
    "        \n",
    "        for j in range(1,len(dice)+1):\n",
    "            if(i+j>=n):\n",
    "                P[i][i] += dice[j-1]\n",
    "            else:\n",
    "                flag_chu = 0\n",
    "                for k in range(len(chutes)):\n",
    "                    if i+j==chutes[k][0]:\n",
    "                        P[i][chutes[k][1]] += dice[j-1]\n",
    "                        flag_chu = 1\n",
    "                        break\n",
    "                if flag_chu==1:\n",
    "                    continue\n",
    "                    \n",
    "                flag_lad = 0\n",
    "                for k in range(len(ladders)):\n",
    "                    if i+j == ladders[k][0]:\n",
    "                        P[i][ladders[k][1]] += dice[j-1]\n",
    "                        flag_lad = 1\n",
    "                        break\n",
    "                if flag_lad == 1:\n",
    "                    continue\n",
    "                    \n",
    "                P[i][i+j] += dice[j-1]\n",
    "                \n",
    "    return P\n",
    "    \n",
    "\n",
    "n = 20### number of states\n",
    "dice = [0.25,0.25,0.25,0.25] ### probability distribution of dice\n",
    "chutes = [(12,1),(16,5)] ### (sorce, destination) pairs of chutes\n",
    "ladders = [(3,7),(13,18)] ### (sorce, destination) pairs of ladders\n",
    "P = construct_P_matrix(n, dice, chutes, ladders)\n",
    "###\n",
    "\n",
    "# Plot transition matrix\n",
    "plt.figure(figsize=(8, 8))\n",
    "plt.imshow(P)"
   ]
  },
  {
   "cell_type": "markdown",
   "metadata": {
    "colab_type": "text",
    "id": "mljiZTzBkra2"
   },
   "source": [
    "* ** (10 pts) ** For this Markov chain, use function from Exercise 1 to compute and plot the cumulative distribution of the number turns a player takes to finish (i.e., the probability $ \\Pr(T_{1, 20} \\le m) $ where $ T_{1, 20} $ is the hitting time from state 1 to state 20).\n",
    "Compute and print the mean $\\mathbb{E}[T_{1,20}]$. "
   ]
  },
  {
   "cell_type": "code",
   "execution_count": 6,
   "metadata": {
    "ExecuteTime": {
     "end_time": "2018-10-21T20:14:09.927705Z",
     "start_time": "2018-10-21T20:14:09.492238Z"
    },
    "colab": {},
    "colab_type": "code",
    "id": "ndLOj9mZkra3"
   },
   "outputs": [
    {
     "data": {
      "text/plain": [
       "Text(0.5, 1.0, 'E[T_{1,20}] = 12.792331782072552')"
      ]
     },
     "execution_count": 6,
     "metadata": {},
     "output_type": "execute_result"
    },
    {
     "data": {
      "image/png": "[encoded data removed]",
      "text/plain": [
       "<Figure size 720x432 with 1 Axes>"
      ]
     },
     "metadata": {},
     "output_type": "display_data"
    }
   ],
   "source": [
    "# Use previous functions to complete this exercise\n",
    "Phi_list, ET = compute_Phi_ET(P, ns=100)\n",
    "\n",
    "m = [] ### steps to be plotted\n",
    "for i in range(100):\n",
    "    m.append(i)\n",
    "\n",
    "Pr = [] ### \\Pr(T_{1,20} <= m) for all m\n",
    "for i in range(100):\n",
    "    Pr.append(Phi_list[i+1][0][19]-Phi_list[i][0][19])\n",
    "E = ET[0][19] ### \\mathbb{E}[T_{1,20}]\n",
    "\n",
    "plt.figure(figsize=(10, 6))\n",
    "plt.plot(m ,Pr)\n",
    "plt.xlabel(r'm')\n",
    "plt.ylabel(r'Pr(T_{1,20} <= m)')\n",
    "plt.title(r'E[T_{1,20}] = ' + str(E))"
   ]
  },
  {
   "cell_type": "markdown",
   "metadata": {
    "colab_type": "text",
    "id": "zL6Wkg8Akra5"
   },
   "source": [
    "* ** (10 pts) ** Use function from Exercise 1 to generate 500 realizations from this Markov chain.  Then, use them to plot a histogram of $ T_{1, 20} $ and compute/print an estimate of the expected number of tosses $\\mathbb{E}\\left[T_{1,20}\\right]$."
   ]
  },
  {
   "cell_type": "code",
   "execution_count": 7,
   "metadata": {
    "ExecuteTime": {
     "end_time": "2018-10-21T20:14:10.923041Z",
     "start_time": "2018-10-21T20:14:09.929953Z"
    },
    "colab": {},
    "colab_type": "code",
    "id": "UJfVeRo8kra6"
   },
   "outputs": [
    {
     "data": {
      "text/plain": [
       "Text(0.5, 1.0, 'mean of T_{1,20} =12.082')"
      ]
     },
     "execution_count": 7,
     "metadata": {},
     "output_type": "execute_result"
    },
    {
     "data": {
      "image/png": "[encoded data removed]",
      "text/plain": [
       "<Figure size 720x432 with 1 Axes>"
      ]
     },
     "metadata": {},
     "output_type": "display_data"
    }
   ],
   "source": [
    "# Use previous funcitons to complete this exercise\n",
    "T = simulate_hitting_time(P, [0, n-1], 500)\n",
    "plt.figure(figsize=(10, 6))\n",
    "plt.hist(T, bins=np.arange(max(T))-0.5)\n",
    "plt.title(r'mean of T_{1,20} =' + str(np.mean(T)))"
   ]
  },
  {
   "cell_type": "markdown",
   "metadata": {
    "colab_type": "text",
    "id": "KdbL1jtrkra8"
   },
   "source": [
    "* Optional Challenge: If the ﬁrst player rolls 4 and climbs the ladder to square 8, then what is the probability that the second player will win."
   ]
  },
  {
   "cell_type": "code",
   "execution_count": null,
   "metadata": {
    "ExecuteTime": {
     "end_time": "2018-10-21T20:14:10.930664Z",
     "start_time": "2018-10-21T20:14:10.925316Z"
    },
    "colab": {},
    "colab_type": "code",
    "id": "QLAdpiSakra8"
   },
   "outputs": [],
   "source": [
    "# Use previous functions to complete this exercise\n",
    "\n",
    "### compute Pr_win\n"
   ]
  },
  {
   "cell_type": "markdown",
   "metadata": {
    "colab_type": "text",
    "id": "wK6CXa-Tkra_"
   },
   "source": [
    "### Example 1\n",
    "\n",
    "In a certain city, it is said that the weather is rainy with a 90% probability if it was rainy the previous day and with a 50% probability if it not rainy the previous day. \n",
    "If we assume that only the previous day’s weather matters, then we can model the weather of this city by a Markov chain with $ n = 2 $ states whose transitions are governed by\n",
    "$$\n",
    "    P = \n",
    "    \\begin{bmatrix}\n",
    "        0.9 & 0.1 \\\\\n",
    "        0.5 & 0.5\n",
    "    \\end{bmatrix}\n",
    "$$\n",
    "Under this model, what is the steady-state probability of rainy weather?\n"
   ]
  },
  {
   "cell_type": "code",
   "execution_count": 10,
   "metadata": {
    "ExecuteTime": {
     "end_time": "2018-10-21T20:14:10.940122Z",
     "start_time": "2018-10-21T20:14:10.932638Z"
    },
    "colab": {},
    "colab_type": "code",
    "id": "OXfntMIIkrbA"
   },
   "outputs": [
    {
     "data": {
      "text/plain": [
       "array([0.83333333, 0.16666667])"
      ]
     },
     "execution_count": 10,
     "metadata": {},
     "output_type": "execute_result"
    }
   ],
   "source": [
    "# implement stationary_distribution(P) in fsmc.py\n",
    "\n",
    "P = np.array([[0.9, 0.1], [0.5, 0.5]])\n",
    "stationary_distribution(P)"
   ]
  },
  {
   "cell_type": "markdown",
   "metadata": {
    "colab_type": "text",
    "id": "fSOPhJkDkrbC"
   },
   "source": [
    "### Exercise 3\n",
    "\n",
    "** (10 pts) ** Write a program to compute the stationary distribution of a Markov chain when it is unique.\n",
    "Consider a game where the gameboard has 8 diﬀerent spaces arranged in a circle. \n",
    "During each turn, a player rolls two 4-sided dice and moves clockwise by a number of spaces equal to their sum. \n",
    "** (5 pts) ** Define the transition matrix for this 8-state Markov chain and compute its stationary distribution."
   ]
  },
  {
   "cell_type": "code",
   "execution_count": 12,
   "metadata": {
    "ExecuteTime": {
     "end_time": "2018-10-21T20:14:10.947659Z",
     "start_time": "2018-10-21T20:14:10.942035Z"
    },
    "colab": {},
    "colab_type": "code",
    "id": "NMgA712_krbD"
   },
   "outputs": [
    {
     "name": "stdout",
     "output_type": "stream",
     "text": [
      "[[0.0625 0.     0.0625 0.125  0.1875 0.25   0.1875 0.125 ]\n",
      " [0.125  0.0625 0.     0.0625 0.125  0.1875 0.25   0.1875]\n",
      " [0.1875 0.125  0.0625 0.     0.0625 0.125  0.1875 0.25  ]\n",
      " [0.25   0.1875 0.125  0.0625 0.     0.0625 0.125  0.1875]\n",
      " [0.1875 0.25   0.1875 0.125  0.0625 0.     0.0625 0.125 ]\n",
      " [0.125  0.1875 0.25   0.1875 0.125  0.0625 0.     0.0625]\n",
      " [0.0625 0.125  0.1875 0.25   0.1875 0.125  0.0625 0.    ]\n",
      " [0.     0.0625 0.125  0.1875 0.25   0.1875 0.125  0.0625]]\n"
     ]
    },
    {
     "data": {
      "text/plain": [
       "array([0.125, 0.125, 0.125, 0.125, 0.125, 0.125, 0.125, 0.125])"
      ]
     },
     "execution_count": 12,
     "metadata": {},
     "output_type": "execute_result"
    }
   ],
   "source": [
    "# Use previous functions to complete this exercise\n",
    "def construct_clockwise_matrix(n,dice,special):\n",
    "    M = np.zeros((n,n))\n",
    "    for i in range(n):\n",
    "        if i==special:\n",
    "            M[i][i] += 0.75\n",
    "            for j in range(1,5):\n",
    "                M[i][(i+2*j)%8] += 0.0625\n",
    "        else:\n",
    "            for j in range(2,9):\n",
    "                M[i][(i+j)%8] += dice[j-2] \n",
    "\n",
    "    return M\n",
    "\n",
    "n = 8\n",
    "dice = [0.0625,0.125,0.1875,0.25,0.1875,0.125,0.0625]\n",
    "P = construct_clockwise_matrix(n,dice,-1) ### construct the transition matrix\n",
    "print(P)\n",
    "stationary_distribution(P)"
   ]
  },
  {
   "cell_type": "markdown",
   "metadata": {
    "colab_type": "text",
    "id": "Sdb2inyQkrbF"
   },
   "source": [
    "Next, suppose that one space is special (e.g., state-1 of the Markov chain) and a player can only leave this space by rolling doubles (i.e., when both dice show the same value). Again, the player moves clockwise by a number of spaces equal to their sum. ** (5 pts) ** Deﬁne the transition matrix for this 8-state Markov chain and compute its stationary probability distribution."
   ]
  },
  {
   "cell_type": "code",
   "execution_count": 13,
   "metadata": {
    "ExecuteTime": {
     "end_time": "2018-10-21T20:14:10.954533Z",
     "start_time": "2018-10-21T20:14:10.949166Z"
    },
    "colab": {},
    "colab_type": "code",
    "id": "GDl2ZCUnkrbF"
   },
   "outputs": [
    {
     "name": "stdout",
     "output_type": "stream",
     "text": [
      "[[0.0625 0.     0.0625 0.125  0.1875 0.25   0.1875 0.125 ]\n",
      " [0.     0.8125 0.     0.0625 0.     0.0625 0.     0.0625]\n",
      " [0.1875 0.125  0.0625 0.     0.0625 0.125  0.1875 0.25  ]\n",
      " [0.25   0.1875 0.125  0.0625 0.     0.0625 0.125  0.1875]\n",
      " [0.1875 0.25   0.1875 0.125  0.0625 0.     0.0625 0.125 ]\n",
      " [0.125  0.1875 0.25   0.1875 0.125  0.0625 0.     0.0625]\n",
      " [0.0625 0.125  0.1875 0.25   0.1875 0.125  0.0625 0.    ]\n",
      " [0.     0.0625 0.125  0.1875 0.25   0.1875 0.125  0.0625]]\n"
     ]
    },
    {
     "data": {
      "text/plain": [
       "array([0.07447989, 0.41836864, 0.08285234, 0.10176963, 0.07092795,\n",
       "       0.09311176, 0.0625555 , 0.09593429])"
      ]
     },
     "execution_count": 13,
     "metadata": {},
     "output_type": "execute_result"
    }
   ],
   "source": [
    "# Use previous functions to complete this exercise\n",
    "special = 1\n",
    "P = construct_clockwise_matrix(n,dice,special)### construct the transition matrix\n",
    "print(P)\n",
    "stationary_distribution(P)"
   ]
  },
  {
   "cell_type": "code",
   "execution_count": null,
   "metadata": {},
   "outputs": [],
   "source": []
  }
 ],
 "metadata": {
  "colab": {
   "collapsed_sections": [],
   "name": "fsmc_project.ipynb",
   "provenance": [],
   "toc_visible": true
  },
  "hide_input": false,
  "kernelspec": {
   "display_name": "Python 3",
   "language": "python",
   "name": "python3"
  },
  "language_info": {
   "codemirror_mode": {
    "name": "ipython",
    "version": 3
   },
   "file_extension": ".py",
   "mimetype": "text/x-python",
   "name": "python",
   "nbconvert_exporter": "python",
   "pygments_lexer": "ipython3",
   "version": "3.6.5"
  },
  "varInspector": {
   "cols": {
    "lenName": 16,
    "lenType": 16,
    "lenVar": 40
   },
   "kernels_config": {
    "python": {
     "delete_cmd_postfix": "",
     "delete_cmd_prefix": "del ",
     "library": "var_list.py",
     "varRefreshCmd": "print(var_dic_list())"
    },
    "r": {
     "delete_cmd_postfix": ") ",
     "delete_cmd_prefix": "rm(",
     "library": "var_list.r",
     "varRefreshCmd": "cat(var_dic_list()) "
    }
   },
   "types_to_exclude": [
    "module",
    "function",
    "builtin_function_or_method",
    "instance",
    "_Feature"
   ],
   "window_display": false
  }
 },
 "nbformat": 4,
 "nbformat_minor": 1
}
