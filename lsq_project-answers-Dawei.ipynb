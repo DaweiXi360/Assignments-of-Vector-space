{
 "cells": [
  {
   "cell_type": "code",
   "execution_count": 20,
   "metadata": {},
   "outputs": [],
   "source": [
    "import numpy as np\n",
    "import pandas as pd\n",
    "import matplotlib.pyplot as plt\n",
    "import itertools as it\n",
    "from scipy.sparse import coo_matrix\n",
    "from sklearn.model_selection import train_test_split\n",
    "from sklearn.metrics import accuracy_score\n",
    "%matplotlib inline\n",
    "\n",
    "## Helper functions you don't need to modify\n",
    "\n",
    "# Function to remove outliers before plotting histogram\n",
    "def remove_outlier(x, thresh=3.5):\n",
    "    \"\"\"\n",
    "    returns points that are not outliers to make histogram prettier\n",
    "    reference: https://stackoverflow.com/questions/11882393/matplotlib-disregard-outliers-when-plotting/11886564\n",
    "    Arguments:\n",
    "        x {numpy.ndarray} -- 1d-array, points to be filtered\n",
    "        thresh {float} -- the modified z-score to use as a threshold. Observations with\n",
    "                          a modified z-score (based on the median absolute deviation) greater\n",
    "                          than this value will be classified as outliers.\n",
    "    Returns:\n",
    "        x_filtered {numpy.ndarray} -- 1d-array, filtered points after dropping outlier\n",
    "    \"\"\"\n",
    "    if len(x.shape) == 1: x = x[:,None]\n",
    "    median = np.median(x, axis=0)\n",
    "    diff = np.sqrt(((x - median)**2).sum(axis=-1))\n",
    "    modified_z_score = 0.6745 * diff / np.median(diff)\n",
    "    x_filtered = x[modified_z_score <= thresh]\n",
    "    return x_filtered\n",
    "\n",
    "## End of helper functions\n",
    "\n",
    "def create_vandermonde(x,m):\n",
    "    A = []\n",
    "    for xi in x:\n",
    "        temp =[]\n",
    "        for i in range(0,m+1):\n",
    "            temp.append(np.power(xi,i))\n",
    "        \n",
    "        A.append(temp)\n",
    "        \n",
    "    A = np.array(A)\n",
    "    \n",
    "    return A    \n",
    "\n",
    "\n",
    "def solve_linear_LS(A,y):\n",
    "    R = np.dot(A.transpose(),A)\n",
    "    p = np.dot(A.transpose(),y)\n",
    "    \n",
    "    z_hat = np.linalg.lstsq(R,p,rcond=None)[0]\n",
    "    \n",
    "    return z_hat\n",
    "\n",
    "\n",
    "def solve_linear_LS_gd(A,y,step,niter):\n",
    "    z_hat = np.zeros(A.shape[1])\n",
    "    \n",
    "    for i in range(niter):\n",
    "        delta = y - np.dot(A,z_hat)\n",
    "        z_hat = z_hat+step*(np.dot(delta,A))\n",
    "    \n",
    "    return z_hat\n",
    "\n",
    "\n",
    "def extract_and_split(df, d, test_size=0.5):\n",
    "    data = df.values\n",
    "    \n",
    "    x = []\n",
    "    y = []\n",
    "    for i in range(data.shape[0]):\n",
    "        if data[i][1]==d:\n",
    "            x.append(data[i][0])\n",
    "            y.append(data[i][1])\n",
    "    \n",
    "    x = np.array(x)\n",
    "    y = np.array(y)\n",
    "    column = -1*np.ones(x.shape[0])\n",
    "    x = np.column_stack((x,column))\n",
    "    \n",
    "    X_tr,X_te,y_tr,y_te = train_test_split(x,y,test_size=test_size,random_state=5)\n",
    "    \n",
    "    return X_tr, X_te, y_tr, y_te  \n",
    "# Other possibly useful functions\n",
    "#from sklearn.model_selection import train_test_split\n",
    "#from sklearn.metrics import accuracy_score, confusion_matrix\n",
    "\n",
    "def mnist_pairwise_LS(df, a, b, test_size=0.5, verbose=False, gd=False):\n",
    "    # Find all samples labeled with digit a and split into train/test sets\n",
    "    Xa_tr, Xa_te, ya_tr, ya_te = extract_and_split(df,a,test_size)\n",
    "    ya_tr = -1*np.ones(ya_tr.shape[0])\n",
    "    ya_te = -1*np.ones(ya_te.shape[0])\n",
    "\n",
    "    # Find all samples labeled with digit b and split into train/test sets\n",
    "    Xb_tr, Xb_te, yb_tr, yb_te = extract_and_split(df,b,test_size)\n",
    "    yb_tr = np.ones(yb_tr.shape[0])\n",
    "    yb_te = np.ones(yb_te.shape[0])\n",
    "\n",
    "    # Construct the full training set\n",
    "    X_tr = np.append(Xa_tr,Xb_tr,axis=0)\n",
    "    y_tr = np.append(ya_tr,yb_tr,axis=0)\n",
    "    \n",
    "    # Construct the full testing set\n",
    "    X_te = np.append(Xa_te,Xb_te,axis=0)\n",
    "    y_te = np.append(ya_te,yb_te,axis=0)\n",
    "    \n",
    "    # Run least-square on training set\n",
    "    z_hat = solve_linear_LS(X_tr,y_tr)\n",
    "        \n",
    "    # Compute estimate and classification error for training set\n",
    "    y_hat_tr = np.dot(X_tr,z_hat)\n",
    "    for i in range(y_hat_tr.shape[0]):\n",
    "        if y_hat_tr[i] <= 0:\n",
    "            y_hat_tr[i] = -1\n",
    "        if y_hat_tr[i] > 0:\n",
    "            y_hat_tr[i] = 1\n",
    "    \n",
    "    err_tr = 1-accuracy_score(y_tr,y_hat_tr)\n",
    "    \n",
    "    # Compute estimate and classification error for training set\n",
    "    y_hat_te = np.dot(X_te,z_hat)\n",
    "    for i in range(y_hat_te.shape[0]):\n",
    "        if y_hat_te[i] <= 0:\n",
    "            y_hat_te[i] = -1\n",
    "        if y_hat_te[i] > 0:\n",
    "            y_hat_te[i] = 1\n",
    "            \n",
    "    err_te = 1-accuracy_score(y_te,y_hat_te)\n",
    "    \n",
    "    if verbose:\n",
    "        print('Pairwise experiment, mapping {0} to -1, mapping {1} to 1'.format(a, b))\n",
    "        print('training error = {0:.2f}%, testing error = {1:.2f}%'.format(100 * err_tr, 100 * err_te))\n",
    "        \n",
    "        # Compute confusion matrix\n",
    "        cm = np.zeros((2, 2), dtype=np.int64)\n",
    "        cm[0, 0] = ((y_te == -1) & (y_hat_te == -1)).sum()\n",
    "        cm[0, 1] = ((y_te == -1) & (y_hat_te == 1)).sum()\n",
    "        cm[1, 0] = ((y_te == 1) & (y_hat_te == -1)).sum()\n",
    "        cm[1, 1] = ((y_te == 1) & (y_hat_te == 1)).sum()\n",
    "        print('Confusion matrix:\\n {0}'.format(cm))\n",
    "\n",
    "        # Compute the histogram of the function output separately for each class \n",
    "        # Then plot the two histograms together\n",
    "        ya_te_hat, yb_te_hat = Xa_te @ z_hat, Xb_te @ z_hat\n",
    "        output = [remove_outlier(ya_te_hat), remove_outlier(yb_te_hat)]\n",
    "        plt.figure(figsize=(8, 4))\n",
    "        plt.hist(output, bins=50)\n",
    "    \n",
    "    res = np.array([err_tr, err_te])\n",
    "    return res\n"
   ]
  },
  {
   "cell_type": "code",
   "execution_count": 21,
   "metadata": {},
   "outputs": [
    {
     "data": {
      "text/plain": [
       "array([[  1,   1,   1,   1],\n",
       "       [  1,   2,   4,   8],\n",
       "       [  1,   3,   9,  27],\n",
       "       [  1,   4,  16,  64],\n",
       "       [  1,   5,  25, 125],\n",
       "       [  1,   6,  36, 216],\n",
       "       [  1,   7,  49, 343],\n",
       "       [  1,   8,  64, 512],\n",
       "       [  1,   9,  81, 729]], dtype=int32)"
      ]
     },
     "execution_count": 21,
     "metadata": {},
     "output_type": "execute_result"
    }
   ],
   "source": [
    "x = np.arange(1, 10)\n",
    "create_vandermonde(x, 3)"
   ]
  },
  {
   "cell_type": "code",
   "execution_count": 22,
   "metadata": {},
   "outputs": [
    {
     "name": "stdout",
     "output_type": "stream",
     "text": [
      "normal equation polynomial fit is 0.3214 x^2 + 0.2071 x^1 + 1.4000\n",
      "normal equation MSE is 0.0810\n"
     ]
    },
    {
     "data": {
      "image/png": "[encoded data removed]",
      "text/plain": [
       "<Figure size 576x288 with 1 Axes>"
      ]
     },
     "metadata": {},
     "output_type": "display_data"
    }
   ],
   "source": [
    "x = np.array([1, 2, 3, 4, 5, 6])\n",
    "y = np.array([2, 3, 5, 7, 11, 14])\n",
    "m = 2\n",
    "\n",
    "# Create Vandermonde matrix A\n",
    "A = create_vandermonde(x,2)\n",
    "\n",
    "# Use linear algebra to solve least-squares problem and minimize || y - A z ||^2\n",
    "z_hat = solve_linear_LS(A,y)\n",
    "\n",
    "# Compute the minimum square error\n",
    "delta = y-np.dot(A,z_hat)\n",
    "mse = np.dot(delta,delta)/y.shape[0]\n",
    "\n",
    "# Generate x/y plot points for the fitted polynomial\n",
    "xx = np.linspace(0, 7)\n",
    "yy = np.dot(create_vandermonde(xx,2),z_hat)\n",
    "\n",
    "plt.figure(figsize=(8, 4))\n",
    "plt.scatter(x, y, color='red', label='data points')\n",
    "plt.plot(xx, yy, linestyle='dotted',label='normal equation poly fit')\n",
    "plt.legend()\n",
    "\n",
    "poly1_expr = ' + '.join(['{0:.4f} x^{1}'.format(v, i) for i, v in enumerate(z_hat)][::-1])[:-4]\n",
    "print('normal equation polynomial fit is {0}'.format(poly1_expr))\n",
    "print('normal equation MSE is {0:.4f}'.format(mse))"
   ]
  },
  {
   "cell_type": "code",
   "execution_count": 23,
   "metadata": {},
   "outputs": [
    {
     "name": "stdout",
     "output_type": "stream",
     "text": [
      "gradient descent polynomial fit is 0.3213 x^2 + 0.2078 x^1 + 1.3989\n",
      "gradient descent MSE is 0.0810\n"
     ]
    },
    {
     "data": {
      "image/png": "[encoded data removed]",
      "text/plain": [
       "<Figure size 576x288 with 1 Axes>"
      ]
     },
     "metadata": {},
     "output_type": "display_data"
    }
   ],
   "source": [
    "# Use gradient descent to solve least-squares problem and minimize || y - A z2 ||^2\n",
    "z2_hat = solve_linear_LS_gd(A,y,0.0002,150000)\n",
    "\n",
    "# Compute the minimum square error\n",
    "delta = y-np.dot(A,z2_hat)\n",
    "mse2 = np.dot(delta,delta)/y.shape[0]\n",
    "\n",
    "# Generate y plot points for the gd fitted polynomial\n",
    "yy2 = np.dot(create_vandermonde(xx,2),z2_hat)\n",
    "\n",
    "plt.figure(figsize=(8, 4))\n",
    "plt.scatter(x, y, color='red', label='data points')\n",
    "plt.plot(xx, yy, linestyle='dotted',label='normal equation poly fit')\n",
    "plt.plot(xx, yy2, linestyle='dashed', label='gradient descent poly fit')\n",
    "plt.legend()\n",
    "\n",
    "poly2_expr = ' + '.join(['{0:.4f} x^{1}'.format(v, i) for i, v in enumerate(z2_hat)][::-1])[:-4]\n",
    "print('gradient descent polynomial fit is {0}'.format(poly2_expr))\n",
    "print('gradient descent MSE is {0:.4f}'.format(mse2))"
   ]
  },
  {
   "cell_type": "code",
   "execution_count": 5,
   "metadata": {},
   "outputs": [
    {
     "data": {
      "image/png": "[encoded data removed]",
      "text/plain": [
       "<Figure size 1080x180 with 30 Axes>"
      ]
     },
     "metadata": {},
     "output_type": "display_data"
    }
   ],
   "source": [
    "# read mnist csv file to a dataframe\n",
    "df = pd.read_csv('mnist_train.csv')\n",
    "# append feature column by merging all pixel columns\n",
    "df['feature'] = df.apply(lambda row: row.values[1:], axis=1)\n",
    "# only keep feature and label column\n",
    "df = df[['feature', 'label']]\n",
    "# display first 5 rows of the dataframe\n",
    "df.head()\n",
    "\n",
    "# Plot the first 30 images\n",
    "plt.figure(figsize=(15, 2.5))\n",
    "for i, row in df.iloc[:30].iterrows():\n",
    "    x, y = row['feature'], row['label']\n",
    "    plt.subplot(2, 15, i + 1)\n",
    "    plt.imshow(x.reshape(28, 28), cmap='gray')\n",
    "    plt.axis('off')\n",
    "    plt.title(y)"
   ]
  },
  {
   "cell_type": "code",
   "execution_count": 24,
   "metadata": {},
   "outputs": [
    {
     "name": "stdout",
     "output_type": "stream",
     "text": [
      "Pairwise experiment, mapping 0 to -1, mapping 1 to 1\n",
      "training error = 0.27%, testing error = 0.98%\n",
      "Confusion matrix:\n",
      " [[2048   18]\n",
      " [  25 2317]]\n"
     ]
    },
    {
     "data": {
      "text/plain": [
       "array([0.00272232, 0.00975499])"
      ]
     },
     "execution_count": 24,
     "metadata": {},
     "output_type": "execute_result"
    },
    {
     "data": {
      "image/png": "[encoded data removed]",
      "text/plain": [
       "<Figure size 576x288 with 1 Axes>"
      ]
     },
     "metadata": {},
     "output_type": "display_data"
    }
   ],
   "source": [
    "# Pairwise experiment for LSQ to classify between 0 and 1\n",
    "mnist_pairwise_LS(df, 0, 1, verbose=True)"
   ]
  },
  {
   "cell_type": "code",
   "execution_count": null,
   "metadata": {},
   "outputs": [],
   "source": [
    "from tqdm import tqdm_notebook as tqdm\n",
    "num_trial, err_matrix = 1, np.zeros((10, 10))\n",
    "for a, b in tqdm(it.combinations(range(10), 2), total=45):\n",
    "    err_tr, err_te = np.mean([mnist_pairwise_LS(df, a, b) for _ in range(num_trial)], axis=0)\n",
    "    err_matrix[a, b], err_matrix[b, a] = err_tr, err_te\n",
    "\n",
    "print(np.round(err_matrix*100, 2))"
   ]
  },
  {
   "cell_type": "code",
   "execution_count": 25,
   "metadata": {},
   "outputs": [],
   "source": [
    "def multi_extract_and_split(df, test_size=0.5):\n",
    "    data = df.values\n",
    "    \n",
    "    x = []\n",
    "    y = []\n",
    "    for i in range(data.shape[0]):\n",
    "        x.append(data[i][0])\n",
    "        y.append(data[i][1])\n",
    "    \n",
    "    x = np.array(x)\n",
    "    y = np.array(y)\n",
    "    column = -1*np.ones(x.shape[0])\n",
    "    x = np.column_stack((x,column))\n",
    "    \n",
    "    X_tr,X_te,y_tr,y_te = train_test_split(x,y,test_size=0.3,random_state=5)\n",
    "    \n",
    "    return X_tr, X_te, y_tr, y_te  "
   ]
  },
  {
   "cell_type": "code",
   "execution_count": 26,
   "metadata": {},
   "outputs": [
    {
     "name": "stdout",
     "output_type": "stream",
     "text": [
      "training error = 13.75%, testing error = 15.15%\n",
      "Confusion matrix:\n",
      " [[1189    2    5    6    3    7   15    1    9    1]\n",
      " [   0 1348    8    5    6    3    2    2    9    3]\n",
      " [  24   50  958   40   26    4   49   30   37    5]\n",
      " [   6   38   35 1131    5   34   11   21   35   25]\n",
      " [   3   25   12    2 1058   16    8    4   12   68]\n",
      " [  37   22    4   99   30  801   43   13   49   26]\n",
      " [  26   22   20    1   27   20 1117    0   13    0]\n",
      " [   8   27   10    9   46    2    0 1165    4   78]\n",
      " [  13  110   10   45   24   45   11    4  899   29]\n",
      " [  19   10    3   33   85    2    0  109    9 1025]]\n"
     ]
    }
   ],
   "source": [
    "# Construct the training set and testting set\n",
    "X_tr,X_te,y_tr,y_te = multi_extract_and_split(df, 0.5)\n",
    "\n",
    "# Apply one-hot encoding to training labels\n",
    "Y = np.zeros((X_tr.shape[0],10))\n",
    "for i in range(y_tr.shape[0]):\n",
    "    Y[i][y_tr[i]] = 1\n",
    "\n",
    "# Run least-square on training set\n",
    "Z = solve_linear_LS(X_tr,Y)\n",
    "\n",
    "# Compute estimation and misclassification on training set\n",
    "Y_hat_tr = np.dot(X_tr,Z)\n",
    "y_hat_tr = []\n",
    "for i in range(X_tr.shape[0]):\n",
    "    max = 0\n",
    "    for j in range(10):\n",
    "        if Y_hat_tr[i][j]>Y_hat_tr[i][max]:\n",
    "            max =j\n",
    "    y_hat_tr.append(max)\n",
    "\n",
    "y_hat_tr = np.array(y_hat_tr)\n",
    "err_tr = err_tr = 1-accuracy_score(y_tr,y_hat_tr)\n",
    "\n",
    "# Compute estimation and misclassification on training set\n",
    "Y_hat_te = np.dot(X_te,Z)\n",
    "y_hat_te = []\n",
    "for i in range(X_te.shape[0]):\n",
    "    max = 0\n",
    "    for j in range(10):\n",
    "        if Y_hat_te[i][j]>Y_hat_te[i][max]:\n",
    "            max = j\n",
    "    y_hat_te.append(max)\n",
    "    \n",
    "y_hat_te = np.array(y_hat_te)\n",
    "err_te = 1-accuracy_score(y_te,y_hat_te)\n",
    "\n",
    "print('training error = {0:.2f}%, testing error = {1:.2f}%'.format(100 * err_tr, 100 * err_te))\n",
    "# Compute confusion matrix\n",
    "cm = np.zeros((10, 10), dtype=np.int64)\n",
    "for a in range(10):\n",
    "    for b in range(10):\n",
    "        cm[a, b] = ((y_te == a) & (y_hat_te == b)).sum()\n",
    "print('Confusion matrix:\\n {0}'.format(cm))"
   ]
  },
  {
   "cell_type": "code",
   "execution_count": null,
   "metadata": {},
   "outputs": [],
   "source": []
  }
 ],
 "metadata": {
  "kernelspec": {
   "display_name": "Python 3",
   "language": "python",
   "name": "python3"
  },
  "language_info": {
   "codemirror_mode": {
    "name": "ipython",
    "version": 3
   },
   "file_extension": ".py",
   "mimetype": "text/x-python",
   "name": "python",
   "nbconvert_exporter": "python",
   "pygments_lexer": "ipython3",
   "version": "3.6.5"
  }
 },
 "nbformat": 4,
 "nbformat_minor": 2
}
